{
 "cells": [
  {
   "cell_type": "code",
   "execution_count": 1,
   "id": "c8ba5338",
   "metadata": {},
   "outputs": [],
   "source": [
    "import numpy as np\n",
    "import keras\n",
    "import tensorflow as tf"
   ]
  },
  {
   "cell_type": "code",
   "execution_count": 7,
   "id": "5562b19b",
   "metadata": {},
   "outputs": [
    {
     "ename": "IndexError",
     "evalue": "tuple index out of range",
     "output_type": "error",
     "traceback": [
      "\u001b[1;31m---------------------------------------------------------------------------\u001b[0m",
      "\u001b[1;31mIndexError\u001b[0m                                Traceback (most recent call last)",
      "Input \u001b[1;32mIn [7]\u001b[0m, in \u001b[0;36m<cell line: 1>\u001b[1;34m()\u001b[0m\n\u001b[1;32m----> 1\u001b[0m x_train \u001b[38;5;241m=\u001b[39m x\u001b[38;5;241m.\u001b[39mreshape((x\u001b[38;5;241m.\u001b[39mshape[\u001b[38;5;241m0\u001b[39m], \u001b[43mx\u001b[49m\u001b[38;5;241;43m.\u001b[39;49m\u001b[43mshape\u001b[49m\u001b[43m[\u001b[49m\u001b[38;5;241;43m1\u001b[39;49m\u001b[43m]\u001b[49m, \u001b[38;5;241m1\u001b[39m))\n",
      "\u001b[1;31mIndexError\u001b[0m: tuple index out of range"
     ]
    }
   ],
   "source": [
    "#### REFERENCE\n",
    "if False:\n",
    "    class DataGenerator(keras.utils.Sequence):\n",
    "        'Generates data for Keras'\n",
    "        def __init__(self, list_IDs, labels, batch_size=9000, dim=(9000,), n_channels=1,\n",
    "                     n_classes=10, shuffle=True):\n",
    "            'Initialization'\n",
    "            self.dim = dim\n",
    "            self.batch_size = batch_size\n",
    "            self.labels = labels\n",
    "            self.list_IDs = list_IDs\n",
    "            self.n_channels = n_channels\n",
    "            self.n_classes = n_classes\n",
    "            self.shuffle = shuffle\n",
    "            self.on_epoch_end()\n",
    "\n",
    "        def __len__(self):\n",
    "            'Denotes the number of batches per epoch'\n",
    "            return int(np.floor(len(self.list_IDs) / self.batch_size))\n",
    "\n",
    "        def __getitem__(self, index):\n",
    "            'Generate one batch of data'\n",
    "            # Generate indexes of the batch\n",
    "            indexes = self.indexes[index*self.batch_size:(index+1)*self.batch_size]\n",
    "\n",
    "            # Find list of IDs\n",
    "            list_IDs_temp = [self.list_IDs[k] for k in indexes]\n",
    "\n",
    "            # Generate data\n",
    "            X, y = self.__data_generation(list_IDs_temp)\n",
    "\n",
    "            return X, y\n",
    "\n",
    "        def on_epoch_end(self):\n",
    "            'Updates indexes after each epoch'\n",
    "            self.indexes = np.arange(len(self.list_IDs))  \n",
    "            if self.shuffle == True:\n",
    "                np.random.shuffle(self.indexes)\n",
    "\n",
    "        def __data_generation(self, list_IDs_temp):\n",
    "            'Generates data containing batch_size samples' # X : (n_samples, *dim, n_channels)\n",
    "            # Initialization\n",
    "            X = np.empty((self.batch_size, *self.dim, self.n_channels))\n",
    "\n",
    "            # Generate data\n",
    "            for i, ID in enumerate(list_IDs_temp):\n",
    "                # Store sample\n",
    "                X[i,] = np.load('data/' + ID + '.npy')\n",
    "\n",
    "                # Store class\n",
    "                y[i] = self.labels[ID]\n",
    "\n",
    "            return X, keras.utils.to_categorical(y, num_classes=self.n_classes)\n"
   ]
  },
  {
   "cell_type": "code",
   "execution_count": null,
   "id": "b86444bc",
   "metadata": {},
   "outputs": [],
   "source": [
    "ID = [\"train.npy\"]\n",
    "class TimeSeriesGenerator(keras.utils.Sequence):\n",
    "    'Generates data for Keras'\n",
    "    def __init__(self, list_IDs, labels, batch_size=9000, dim=(9000,), n_channels=1,\n",
    "                 n_classes=10, shuffle=True):\n",
    "        'Initialization'\n",
    "        self.dim = dim\n",
    "        self.batch_size = batch_size\n",
    "        self.labels = labels\n",
    "        self.list_IDs = list_IDs\n",
    "        self.n_channels = n_channels\n",
    "        self.n_classes = n_classes\n",
    "        self.shuffle = shuffle\n",
    "        self.on_epoch_end()\n",
    "\n",
    "    def __len__(self):\n",
    "        'Denotes the number of batches per epoch' # i want a variable batch size though\n",
    "        return int(np.floor(len(self.list_IDs) / self.batch_size))\n",
    "\n",
    "    def __getitem__(self, index):\n",
    "        'Generate one batch of data'\n",
    "        \n",
    "\n",
    "        # Generate data\n",
    "        x, y = self.__data_generation(list_IDs_temp)\n",
    "\n",
    "        return x, y\n",
    "\n",
    "    def on_epoch_end(self):\n",
    "        'Updates indexes after each epoch'\n",
    "        self.indexes = np.arange(len(self.list_IDs))  \n",
    "        if self.shuffle == True:\n",
    "            np.random.shuffle(self.indexes)\n"
   ]
  }
 ],
 "metadata": {
  "kernelspec": {
   "display_name": "Python 3 (ipykernel)",
   "language": "python",
   "name": "python3"
  },
  "language_info": {
   "codemirror_mode": {
    "name": "ipython",
    "version": 3
   },
   "file_extension": ".py",
   "mimetype": "text/x-python",
   "name": "python",
   "nbconvert_exporter": "python",
   "pygments_lexer": "ipython3",
   "version": "3.9.12"
  }
 },
 "nbformat": 4,
 "nbformat_minor": 5
}
